{
 "cells": [
  {
   "cell_type": "markdown",
   "metadata": {},
   "source": [
    "imports step 0\n"
   ]
  },
  {
   "cell_type": "code",
   "execution_count": 6,
   "metadata": {},
   "outputs": [],
   "source": [
    "import pandas as pd\n",
    "import numpy as np\n",
    "import string\n",
    "import re\n",
    "import nltk\n",
    "from tensorflow.keras.preprocessing.text import Tokenizer\n",
    "from nltk.tokenize import word_tokenize\n",
    "from nltk.corpus import stopwords\n",
    "from nltk.stem import WordNetLemmatizer\n",
    "from sklearn.feature_extraction.text import TfidfVectorizer\n",
    "from sklearn.model_selection import train_test_split\n",
    "import tensorflow as tf\n",
    "from tensorflow.keras.models import Sequential\n",
    "from tensorflow.keras.layers import Dense\n",
    "import matplotlib.pyplot as plt\n",
    "from sklearn.metrics import confusion_matrix\n",
    "from sklearn.metrics import classification_report\n",
    "import tensorflow\n",
    "from sklearn.metrics.pairwise import cosine_similarity\n",
    "import seaborn as sns\n",
    "\n",
    "\n",
    "nltk_stopwords = stopwords.words('english')\n",
    "custom_stopwords = [\"www\", \".com\", \"http\"]"
   ]
  },
  {
   "cell_type": "markdown",
   "metadata": {},
   "source": [
    "Step 1. Load data"
   ]
  },
  {
   "cell_type": "code",
   "execution_count": 7,
   "metadata": {},
   "outputs": [
    {
     "data": {
      "text/html": [
       "<div>\n",
       "<style scoped>\n",
       "    .dataframe tbody tr th:only-of-type {\n",
       "        vertical-align: middle;\n",
       "    }\n",
       "\n",
       "    .dataframe tbody tr th {\n",
       "        vertical-align: top;\n",
       "    }\n",
       "\n",
       "    .dataframe thead th {\n",
       "        text-align: right;\n",
       "    }\n",
       "</style>\n",
       "<table border=\"1\" class=\"dataframe\">\n",
       "  <thead>\n",
       "    <tr style=\"text-align: right;\">\n",
       "      <th></th>\n",
       "      <th>text</th>\n",
       "      <th>sentiment</th>\n",
       "    </tr>\n",
       "  </thead>\n",
       "  <tbody>\n",
       "    <tr>\n",
       "      <th>0</th>\n",
       "      <td>i guess that if a very wild bachelor party had...</td>\n",
       "      <td>0</td>\n",
       "    </tr>\n",
       "    <tr>\n",
       "      <th>1</th>\n",
       "      <td>with the abundance of trite , recycled movies ...</td>\n",
       "      <td>1</td>\n",
       "    </tr>\n",
       "    <tr>\n",
       "      <th>2</th>\n",
       "      <td>as a hot-shot defense attorney , kevin lomax (...</td>\n",
       "      <td>0</td>\n",
       "    </tr>\n",
       "    <tr>\n",
       "      <th>3</th>\n",
       "      <td>hedwig ( john cameron mitchell ) was born a bo...</td>\n",
       "      <td>1</td>\n",
       "    </tr>\n",
       "    <tr>\n",
       "      <th>4</th>\n",
       "      <td>i've heard it called \" jaws with claws \" and t...</td>\n",
       "      <td>0</td>\n",
       "    </tr>\n",
       "  </tbody>\n",
       "</table>\n",
       "</div>"
      ],
      "text/plain": [
       "                                                text  sentiment\n",
       "0  i guess that if a very wild bachelor party had...          0\n",
       "1  with the abundance of trite , recycled movies ...          1\n",
       "2  as a hot-shot defense attorney , kevin lomax (...          0\n",
       "3  hedwig ( john cameron mitchell ) was born a bo...          1\n",
       "4  i've heard it called \" jaws with claws \" and t...          0"
      ]
     },
     "execution_count": 7,
     "metadata": {},
     "output_type": "execute_result"
    }
   ],
   "source": [
    "df = pd.read_csv(\"assignment.csv\")\n",
    "df.head()                   "
   ]
  },
  {
   "cell_type": "markdown",
   "metadata": {},
   "source": [
    "DATA EXPLORATION"
   ]
  },
  {
   "cell_type": "code",
   "execution_count": 8,
   "metadata": {},
   "outputs": [
    {
     "name": "stdout",
     "output_type": "stream",
     "text": [
      "\n",
      "Dataset information:\n",
      "<class 'pandas.core.frame.DataFrame'>\n",
      "RangeIndex: 2000 entries, 0 to 1999\n",
      "Data columns (total 2 columns):\n",
      " #   Column     Non-Null Count  Dtype \n",
      "---  ------     --------------  ----- \n",
      " 0   text       2000 non-null   object\n",
      " 1   sentiment  2000 non-null   int64 \n",
      "dtypes: int64(1), object(1)\n",
      "memory usage: 31.4+ KB\n",
      "None\n",
      "\n",
      "Summary statistics:\n",
      "         sentiment\n",
      "count  2000.000000\n",
      "mean      0.500000\n",
      "std       0.500125\n",
      "min       0.000000\n",
      "25%       0.000000\n",
      "50%       0.500000\n",
      "75%       1.000000\n",
      "max       1.000000\n"
     ]
    }
   ],
   "source": [
    "print(\"\\nDataset information:\")\n",
    "print(df.info())\n",
    "\n",
    "print(\"\\nSummary statistics:\")\n",
    "print(df.describe())\n"
   ]
  },
  {
   "cell_type": "code",
   "execution_count": 9,
   "metadata": {},
   "outputs": [
    {
     "data": {
      "image/png": "[encoded data removed]",
      "text/plain": [
       "<Figure size 1200x600 with 1 Axes>"
      ]
     },
     "metadata": {},
     "output_type": "display_data"
    }
   ],
   "source": [
    "#FILL UP \n",
    "df.info\n",
    "df.describe\n",
    "\n",
    "numerical_column = 'sentiment'  \n",
    "plt.figure(figsize=(12, 6))\n",
    "sns.histplot(df[numerical_column])\n",
    "plt.title(f'Distribution of {numerical_column}')\n",
    "plt.xlabel(numerical_column)\n",
    "plt.ylabel('Frequency')\n",
    "plt.show()\n"
   ]
  },
  {
   "cell_type": "markdown",
   "metadata": {},
   "source": [
    "Step 2. clean data / pre-processing"
   ]
  },
  {
   "cell_type": "code",
   "execution_count": 10,
   "metadata": {},
   "outputs": [],
   "source": [
    "def clean_text(input_text):\n",
    "    output_text = str(input_text).translate(str.maketrans('','',string.punctuation)) \n",
    "    output_text = output_text.lower() \n",
    "    output_text = re.sub(r'\\d+', '', output_text) \n",
    "    return output_text\n",
    "\n",
    "def lemm_text(input_text): \n",
    "    lemmatizer = WordNetLemmatizer()\n",
    "    words = word_tokenize(input_text)\n",
    "    words = [word for word in words if word.lower() not in nltk_stopwords] \n",
    "    lemmatized_words = [lemmatizer.lemmatize(word) for word in words]\n",
    "    lemma_output = ' '.join(lemmatized_words)\n",
    "    return lemma_output\n",
    "\n",
    "def process_with_lemm(input_text):\n",
    "    output_text = clean_text(input_text)\n",
    "    output_text = lemm_text(output_text)\n",
    "    return output_text"
   ]
  },
  {
   "cell_type": "code",
   "execution_count": 11,
   "metadata": {},
   "outputs": [
    {
     "data": {
      "text/html": [
       "<div>\n",
       "<style scoped>\n",
       "    .dataframe tbody tr th:only-of-type {\n",
       "        vertical-align: middle;\n",
       "    }\n",
       "\n",
       "    .dataframe tbody tr th {\n",
       "        vertical-align: top;\n",
       "    }\n",
       "\n",
       "    .dataframe thead th {\n",
       "        text-align: right;\n",
       "    }\n",
       "</style>\n",
       "<table border=\"1\" class=\"dataframe\">\n",
       "  <thead>\n",
       "    <tr style=\"text-align: right;\">\n",
       "      <th></th>\n",
       "      <th>text</th>\n",
       "      <th>sentiment</th>\n",
       "    </tr>\n",
       "  </thead>\n",
       "  <tbody>\n",
       "    <tr>\n",
       "      <th>0</th>\n",
       "      <td>guess wild bachelor party gone really bad woul...</td>\n",
       "      <td>0</td>\n",
       "    </tr>\n",
       "    <tr>\n",
       "      <th>1</th>\n",
       "      <td>abundance trite recycled movie late tremendous...</td>\n",
       "      <td>1</td>\n",
       "    </tr>\n",
       "    <tr>\n",
       "      <th>2</th>\n",
       "      <td>hotshot defense attorney kevin lomax keanu ree...</td>\n",
       "      <td>0</td>\n",
       "    </tr>\n",
       "    <tr>\n",
       "      <th>3</th>\n",
       "      <td>hedwig john cameron mitchell born boy named ha...</td>\n",
       "      <td>1</td>\n",
       "    </tr>\n",
       "    <tr>\n",
       "      <th>4</th>\n",
       "      <td>ive heard called jaw claw thats fair summation...</td>\n",
       "      <td>0</td>\n",
       "    </tr>\n",
       "  </tbody>\n",
       "</table>\n",
       "</div>"
      ],
      "text/plain": [
       "                                                text  sentiment\n",
       "0  guess wild bachelor party gone really bad woul...          0\n",
       "1  abundance trite recycled movie late tremendous...          1\n",
       "2  hotshot defense attorney kevin lomax keanu ree...          0\n",
       "3  hedwig john cameron mitchell born boy named ha...          1\n",
       "4  ive heard called jaw claw thats fair summation...          0"
      ]
     },
     "execution_count": 11,
     "metadata": {},
     "output_type": "execute_result"
    }
   ],
   "source": [
    "df_cleaned = df.copy() \n",
    "df_cleaned['text'] = df_cleaned['text'].apply(process_with_lemm) \n",
    "df_cleaned.head()"
   ]
  },
  {
   "cell_type": "markdown",
   "metadata": {},
   "source": [
    "Step 3. vectorize text"
   ]
  },
  {
   "cell_type": "code",
   "execution_count": 12,
   "metadata": {},
   "outputs": [],
   "source": [
    "tfidf_vectorizer = TfidfVectorizer(max_features=500) \n",
    "\n",
    "X_temp = tfidf_vectorizer.fit_transform(df_cleaned['text'])\n",
    "y_temp = pd.get_dummies(df_cleaned['sentiment'])"
   ]
  },
  {
   "cell_type": "code",
   "execution_count": 13,
   "metadata": {},
   "outputs": [
    {
     "data": {
      "text/plain": [
       "(<2000x500 sparse matrix of type '<class 'numpy.float64'>'\n",
       " \twith 198731 stored elements in Compressed Sparse Row format>,\n",
       "           0      1\n",
       " 0      True  False\n",
       " 1     False   True\n",
       " 2      True  False\n",
       " 3     False   True\n",
       " 4      True  False\n",
       " ...     ...    ...\n",
       " 1995   True  False\n",
       " 1996   True  False\n",
       " 1997  False   True\n",
       " 1998   True  False\n",
       " 1999   True  False\n",
       " \n",
       " [2000 rows x 2 columns])"
      ]
     },
     "execution_count": 13,
     "metadata": {},
     "output_type": "execute_result"
    }
   ],
   "source": [
    "X_temp, y_temp"
   ]
  },
  {
   "cell_type": "markdown",
   "metadata": {},
   "source": [
    "Step 4. Train Test Split"
   ]
  },
  {
   "cell_type": "code",
   "execution_count": 14,
   "metadata": {},
   "outputs": [
    {
     "name": "stdout",
     "output_type": "stream",
     "text": [
      "[[0.         0.         0.         ... 0.         0.         0.        ]\n",
      " [0.0847295  0.         0.         ... 0.         0.         0.        ]\n",
      " [0.         0.08751722 0.         ... 0.         0.         0.        ]\n",
      " ...\n",
      " [0.         0.         0.         ... 0.         0.         0.        ]\n",
      " [0.0511564  0.05220807 0.         ... 0.         0.         0.        ]\n",
      " [0.         0.         0.         ... 0.         0.         0.        ]]\n",
      "(2000, 500)\n",
      "[[ True False]\n",
      " [False  True]\n",
      " [ True False]\n",
      " ...\n",
      " [False  True]\n",
      " [ True False]\n",
      " [ True False]]\n",
      "(2000, 2)\n"
     ]
    }
   ],
   "source": [
    "X = X_temp.toarray() \n",
    "print(X)\n",
    "print(X.shape)\n",
    "\n",
    "\n",
    "y = y_temp.values \n",
    "print(y)\n",
    "print(y.shape)"
   ]
  },
  {
   "cell_type": "code",
   "execution_count": 15,
   "metadata": {},
   "outputs": [],
   "source": [
    "x_train, x_test, y_train, y_test = train_test_split(X, y, test_size=0.2, random_state=42)"
   ]
  },
  {
   "cell_type": "markdown",
   "metadata": {},
   "source": [
    "Step 5. Build Model"
   ]
  },
  {
   "cell_type": "code",
   "execution_count": 16,
   "metadata": {},
   "outputs": [],
   "source": [
    "model = Sequential()\n",
    "model.add(Dense(64, input_dim=X.shape[1], activation='relu')) \n",
    "\n",
    "model.add(Dense(y.shape[1], activation='sigmoid'))\n",
    "model.summary\n",
    "\n",
    "model.compile(optimizer='adam', loss='binary_crossentropy', metrics=['accuracy'])"
   ]
  },
  {
   "cell_type": "markdown",
   "metadata": {},
   "source": [
    "Fit model"
   ]
  },
  {
   "cell_type": "code",
   "execution_count": 17,
   "metadata": {},
   "outputs": [
    {
     "name": "stdout",
     "output_type": "stream",
     "text": [
      "Epoch 1/15\n",
      "50/50 [==============================] - 1s 11ms/step - loss: 0.6819 - accuracy: 0.6344 - val_loss: 0.6678 - val_accuracy: 0.6275\n",
      "Epoch 2/15\n",
      "50/50 [==============================] - 0s 4ms/step - loss: 0.6268 - accuracy: 0.7625 - val_loss: 0.6005 - val_accuracy: 0.7600\n",
      "Epoch 3/15\n",
      "50/50 [==============================] - 0s 4ms/step - loss: 0.5389 - accuracy: 0.8181 - val_loss: 0.5344 - val_accuracy: 0.7650\n",
      "Epoch 4/15\n",
      "50/50 [==============================] - 0s 4ms/step - loss: 0.4608 - accuracy: 0.8363 - val_loss: 0.4931 - val_accuracy: 0.7700\n",
      "Epoch 5/15\n",
      "50/50 [==============================] - 0s 4ms/step - loss: 0.4037 - accuracy: 0.8487 - val_loss: 0.4694 - val_accuracy: 0.7675\n",
      "Epoch 6/15\n",
      "50/50 [==============================] - 0s 4ms/step - loss: 0.3632 - accuracy: 0.8650 - val_loss: 0.4596 - val_accuracy: 0.7625\n",
      "Epoch 7/15\n",
      "50/50 [==============================] - 0s 4ms/step - loss: 0.3353 - accuracy: 0.8644 - val_loss: 0.4544 - val_accuracy: 0.7775\n",
      "Epoch 8/15\n",
      "50/50 [==============================] - 0s 4ms/step - loss: 0.3129 - accuracy: 0.8794 - val_loss: 0.4635 - val_accuracy: 0.7575\n",
      "Epoch 9/15\n",
      "50/50 [==============================] - 0s 4ms/step - loss: 0.2929 - accuracy: 0.8913 - val_loss: 0.4606 - val_accuracy: 0.7900\n",
      "Epoch 10/15\n",
      "50/50 [==============================] - 0s 4ms/step - loss: 0.2801 - accuracy: 0.8956 - val_loss: 0.4691 - val_accuracy: 0.7875\n",
      "Epoch 11/15\n",
      "50/50 [==============================] - 0s 6ms/step - loss: 0.2682 - accuracy: 0.9038 - val_loss: 0.4806 - val_accuracy: 0.7850\n",
      "Epoch 12/15\n",
      "50/50 [==============================] - 0s 4ms/step - loss: 0.2593 - accuracy: 0.8963 - val_loss: 0.4874 - val_accuracy: 0.7875\n",
      "Epoch 13/15\n",
      "50/50 [==============================] - 0s 4ms/step - loss: 0.2496 - accuracy: 0.9069 - val_loss: 0.4956 - val_accuracy: 0.7900\n",
      "Epoch 14/15\n",
      "50/50 [==============================] - 0s 4ms/step - loss: 0.2418 - accuracy: 0.9044 - val_loss: 0.5080 - val_accuracy: 0.7700\n",
      "Epoch 15/15\n",
      "50/50 [==============================] - 0s 4ms/step - loss: 0.2334 - accuracy: 0.9137 - val_loss: 0.5162 - val_accuracy: 0.7700\n"
     ]
    }
   ],
   "source": [
    "num_epochs = 15\n",
    "\n",
    "history = model.fit(x_train, y_train, epochs=num_epochs, \n",
    "                    validation_data=(x_test, y_test))"
   ]
  },
  {
   "cell_type": "code",
   "execution_count": 18,
   "metadata": {},
   "outputs": [
    {
     "name": "stdout",
     "output_type": "stream",
     "text": [
      " 1/13 [=>............................] - ETA: 0s - loss: 0.4303 - accuracy: 0.7500"
     ]
    },
    {
     "name": "stdout",
     "output_type": "stream",
     "text": [
      "13/13 [==============================] - 0s 2ms/step - loss: 0.5162 - accuracy: 0.7700\n",
      "Accuracy: 0.7699999809265137\n"
     ]
    }
   ],
   "source": [
    "loss, accuracy = model.evaluate(x_test, y_test) \n",
    "print(f'Accuracy: {accuracy}')"
   ]
  },
  {
   "cell_type": "code",
   "execution_count": 19,
   "metadata": {},
   "outputs": [
    {
     "name": "stdout",
     "output_type": "stream",
     "text": [
      "(400, 2)\n",
      "[[ True False]\n",
      " [ True False]\n",
      " [False  True]\n",
      " [ True False]\n",
      " [False  True]]\n"
     ]
    }
   ],
   "source": [
    "print(y_test.shape)\n",
    "\n",
    "print(y_test[0:5])"
   ]
  },
  {
   "cell_type": "code",
   "execution_count": 20,
   "metadata": {},
   "outputs": [
    {
     "name": "stdout",
     "output_type": "stream",
     "text": [
      "13/13 [==============================] - 0s 3ms/step\n",
      "(400, 2)\n",
      "[[0.9648541  0.03406275]\n",
      " [0.6280456  0.38259828]\n",
      " [0.006388   0.99204445]\n",
      " [0.9554204  0.04876687]\n",
      " [0.66596186 0.3403862 ]]\n"
     ]
    }
   ],
   "source": [
    "preds = model.predict(x_test) \n",
    "\n",
    "print(preds.shape)\n",
    "\n",
    "print(preds[0:5])"
   ]
  },
  {
   "cell_type": "code",
   "execution_count": 21,
   "metadata": {},
   "outputs": [
    {
     "name": "stdout",
     "output_type": "stream",
     "text": [
      "[0, 0, 1, 0, 0]\n",
      "[0, 0, 1, 0, 1]\n"
     ]
    }
   ],
   "source": [
    "preds_cm = [np.argmax(each) for each in preds]     \n",
    "print(preds_cm[0:5])                             \n",
    "\n",
    "\n",
    "y_test_cm = [np.argmax(each) for each in y_test]        \n",
    "print(y_test_cm[0:5])        "
   ]
  },
  {
   "cell_type": "markdown",
   "metadata": {},
   "source": [
    "Step 6. results"
   ]
  },
  {
   "cell_type": "code",
   "execution_count": 22,
   "metadata": {},
   "outputs": [
    {
     "data": {
      "text/html": [
       "<div>\n",
       "<style scoped>\n",
       "    .dataframe tbody tr th:only-of-type {\n",
       "        vertical-align: middle;\n",
       "    }\n",
       "\n",
       "    .dataframe tbody tr th {\n",
       "        vertical-align: top;\n",
       "    }\n",
       "\n",
       "    .dataframe thead th {\n",
       "        text-align: right;\n",
       "    }\n",
       "</style>\n",
       "<table border=\"1\" class=\"dataframe\">\n",
       "  <thead>\n",
       "    <tr style=\"text-align: right;\">\n",
       "      <th></th>\n",
       "      <th>Negative</th>\n",
       "      <th>Positive</th>\n",
       "    </tr>\n",
       "  </thead>\n",
       "  <tbody>\n",
       "    <tr>\n",
       "      <th>Negative</th>\n",
       "      <td>151</td>\n",
       "      <td>52</td>\n",
       "    </tr>\n",
       "    <tr>\n",
       "      <th>Positive</th>\n",
       "      <td>40</td>\n",
       "      <td>157</td>\n",
       "    </tr>\n",
       "  </tbody>\n",
       "</table>\n",
       "</div>"
      ],
      "text/plain": [
       "          Negative  Positive\n",
       "Negative       151        52\n",
       "Positive        40       157"
      ]
     },
     "execution_count": 22,
     "metadata": {},
     "output_type": "execute_result"
    }
   ],
   "source": [
    "cm = confusion_matrix(y_test_cm, preds_cm)\n",
    "df_cm = pd.DataFrame(cm, index=['Negative', 'Positive'], columns=['Negative', 'Positive']) \n",
    "df_cm.head()\n"
   ]
  },
  {
   "cell_type": "code",
   "execution_count": 23,
   "metadata": {},
   "outputs": [
    {
     "name": "stdout",
     "output_type": "stream",
     "text": [
      "              precision    recall  f1-score   support\n",
      "\n",
      "           0       0.79      0.74      0.77       203\n",
      "           1       0.75      0.80      0.77       197\n",
      "\n",
      "    accuracy                           0.77       400\n",
      "   macro avg       0.77      0.77      0.77       400\n",
      "weighted avg       0.77      0.77      0.77       400\n",
      "\n"
     ]
    }
   ],
   "source": [
    "print(classification_report(y_test_cm,preds_cm))"
   ]
  },
  {
   "cell_type": "code",
   "execution_count": 24,
   "metadata": {},
   "outputs": [
    {
     "data": {
      "image/png": "[encoded data removed]",
      "text/plain": [
       "<Figure size 640x480 with 1 Axes>"
      ]
     },
     "metadata": {},
     "output_type": "display_data"
    }
   ],
   "source": [
    "def plot_graphs(H, metric):\n",
    "  plt.style.use(\"ggplot\")\n",
    "  plt.figure()\n",
    "  plt.plot(np.arange(0, num_epochs), H.history[\"loss\"], label=\"train_loss\")\n",
    "  plt.plot(np.arange(0, num_epochs), H.history[\"val_loss\"], label=\"val_loss\")\n",
    "  plt.plot(np.arange(0, num_epochs), H.history[\"accuracy\"], label=\"train_acc\")\n",
    "  plt.plot(np.arange(0, num_epochs), H.history[\"val_accuracy\"], label=\"val_acc\")\n",
    "  plt.title(\"Training Loss and Accuracy\")\n",
    "  plt.xlabel(\"Epoch\" )\n",
    "  plt.ylabel(\"Loss/Accuracy\" )\n",
    "  plt.legend()\n",
    "  plt.show( )\n",
    "plot_graphs(history,'accuracy')"
   ]
  },
  {
   "cell_type": "markdown",
   "metadata": {},
   "source": [
    "step 7. prediction"
   ]
  },
  {
   "cell_type": "code",
   "execution_count": 25,
   "metadata": {},
   "outputs": [],
   "source": [
    "def encode_sentence(input_text):\n",
    "    encoded_text = tfidf_vectorizer.transform([input_text])\n",
    "    encoded_text = encoded_text.toarray()\n",
    "    return encoded_text\n",
    "\n",
    "\n",
    "def prediction(encoded_text):\n",
    "    predictions = model.predict(encoded_text)\n",
    "    predicted_class = np.argmax(predictions)\n",
    "    print(\"The predicted probability is:\", predictions)\n",
    "    print(\"The predicted class is:\", predicted_class)\n",
    "\n",
    "\n",
    "    if predicted_class == 0:\n",
    "        print(\"The text is classified as: Negative\")\n",
    "    else:\n",
    "        print(\"The text is classified as: Positive\")"
   ]
  },
  {
   "cell_type": "code",
   "execution_count": 26,
   "metadata": {},
   "outputs": [
    {
     "name": "stdout",
     "output_type": "stream",
     "text": [
      "1/1 [==============================] - 0s 82ms/step\n",
      "The predicted probability is: [[0.68325716 0.28905138]]\n",
      "The predicted class is: 0\n",
      "The text is classified as: Negative\n"
     ]
    }
   ],
   "source": [
    "random_text = \"This movie is shit\"\n",
    "\n",
    "\n",
    "to_pred = encode_sentence(random_text)\n",
    "prediction(to_pred)"
   ]
  },
  {
   "cell_type": "markdown",
   "metadata": {},
   "source": [
    "Cosine similarity"
   ]
  },
  {
   "cell_type": "code",
   "execution_count": 27,
   "metadata": {},
   "outputs": [
    {
     "name": "stdout",
     "output_type": "stream",
     "text": [
      "0.5797386715376657\n"
     ]
    }
   ],
   "source": [
    "def get_cosine_similarity(text1, text2):\n",
    "    vectors = tfidf_vectorizer.fit_transform([text1, text2])\n",
    "    similarity = cosine_similarity(vectors[0], vectors[1])\n",
    "    return similarity[0][0]\n",
    "\n",
    "text1 = 'this movie is bad'\n",
    "text2 = 'words cannot describe how bad this movie is'\n",
    "\n",
    "cosine = get_cosine_similarity(text1, text2)\n",
    "print(cosine)"
   ]
  }
 ],
 "metadata": {
  "kernelspec": {
   "display_name": "Python 3",
   "language": "python",
   "name": "python3"
  },
  "language_info": {
   "codemirror_mode": {
    "name": "ipython",
    "version": 3
   },
   "file_extension": ".py",
   "mimetype": "text/x-python",
   "name": "python",
   "nbconvert_exporter": "python",
   "pygments_lexer": "ipython3",
   "version": "3.10.13"
  }
 },
 "nbformat": 4,
 "nbformat_minor": 2
}
