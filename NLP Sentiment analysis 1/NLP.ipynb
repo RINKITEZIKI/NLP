{
  "cells": [
    {
      "cell_type": "markdown",
      "metadata": {
        "id": "-qmhEtsk4d00"
      },
      "source": [
        "# Natural Language Processing"
      ]
    },
    {
      "cell_type": "markdown",
      "metadata": {
        "id": "j-IuROXj4bHv"
      },
      "source": [
        "1. You are to build a simple sentiment detector that would be able to classify a customer feedback as negative or positive. This is to allow the business to plan how they can improve their customer service.\n",
        "2. A dataset has been created from customer feedback. It contains the extracted text reviews from customers and each review is labelled with positive or negative sentiment.\n",
        "3. Complete the task as listed in the requirements below.\n",
        "4. For Jupyter Notebook, libraries declaration please use \"tensorflow.keras.xxx\". \n",
        "\n"
      ]
    },
    {
      "cell_type": "markdown",
      "metadata": {
        "id": "_vT99ODN7wz-"
      },
      "source": [
        "### Install Libraries\n",
        "\n",
        "Complete the missing import statements."
      ]
    },
    {
      "cell_type": "code",
      "execution_count": 1,
      "metadata": {
        "id": "n2evB6SX4ZZ5"
      },
      "outputs": [],
      "source": [
        "\n",
        "\n",
        "# import pandas\n",
        "import pandas as pd\n",
        "pd.set_option('display.max_colwidth', 200)\n",
        "\n",
        "#fill in function for train test split.\n",
        "from sklearn.model_selection import train_test_split\n",
        "\n",
        "#Use the Sequential class. \n",
        "from keras.models import Sequential\n",
        "\n",
        "#Select the correct crossentropy function for the task.\n",
        "from keras.losses import categorical_crossentropy\n",
        "from tensorflow.keras.optimizers import SGD\n",
        "from keras.layers import Dense\n",
        " \n",
        "from numpy import argmax\n",
        "import numpy as np\n",
        "import re\n",
        "\n",
        "import matplotlib.pyplot as plt\n",
        "#Use confusion matrix  and classification report from sklearn\n",
        "from sklearn.metrics import classification_report\n",
        "from sklearn.metrics import confusion_matrix\n",
        "from sklearn.feature_extraction.text import CountVectorizer"
      ]
    },
    {
      "cell_type": "markdown",
      "metadata": {
        "id": "WuS6u41w712c"
      },
      "source": [
        "## Install Data\n",
        "\n",
        "1. Load the dataset **'amazon_cells_labelled.csv'** into a Pandas Dataframe.\n",
        "\n",
        "2. Set the columns names to 'Review' and 'Sentiment'.\n"
      ]
    },
    {
      "cell_type": "code",
      "execution_count": 2,
      "metadata": {
        "id": "v-pHgv-C7rEY"
      },
      "outputs": [],
      "source": [
        "COLUMN_NAMES=['Review','Sentiment']\n",
        "\n",
        "df = pd.read_csv('amazon_cells_labelled.csv')\n"
      ]
    },
    {
      "cell_type": "markdown",
      "metadata": {
        "id": "e1C8YyUM9Qxa"
      },
      "source": [
        "## Show the first 10 rows of data"
      ]
    },
    {
      "cell_type": "code",
      "execution_count": 3,
      "metadata": {
        "colab": {
          "base_uri": "https://localhost:8080/",
          "height": 424
        },
        "id": "_cbdAJQ188Nm",
        "outputId": "176fb896-92d7-4191-a8c4-7ad112b9a36b"
      },
      "outputs": [
        {
          "data": {
            "text/html": [
              "<div>\n",
              "<style scoped>\n",
              "    .dataframe tbody tr th:only-of-type {\n",
              "        vertical-align: middle;\n",
              "    }\n",
              "\n",
              "    .dataframe tbody tr th {\n",
              "        vertical-align: top;\n",
              "    }\n",
              "\n",
              "    .dataframe thead th {\n",
              "        text-align: right;\n",
              "    }\n",
              "</style>\n",
              "<table border=\"1\" class=\"dataframe\">\n",
              "  <thead>\n",
              "    <tr style=\"text-align: right;\">\n",
              "      <th></th>\n",
              "      <th>Review</th>\n",
              "      <th>Sentiment</th>\n",
              "    </tr>\n",
              "  </thead>\n",
              "  <tbody>\n",
              "    <tr>\n",
              "      <th>0</th>\n",
              "      <td>So there is no way for me to plug it in here in the US unless I go by a converter.</td>\n",
              "      <td>0</td>\n",
              "    </tr>\n",
              "    <tr>\n",
              "      <th>1</th>\n",
              "      <td>Good case, Excellent value.</td>\n",
              "      <td>1</td>\n",
              "    </tr>\n",
              "    <tr>\n",
              "      <th>2</th>\n",
              "      <td>Great for the jawbone.</td>\n",
              "      <td>1</td>\n",
              "    </tr>\n",
              "    <tr>\n",
              "      <th>3</th>\n",
              "      <td>Tied to charger for conversations lasting more than 45 minutes.MAJOR PROBLEMS!!</td>\n",
              "      <td>0</td>\n",
              "    </tr>\n",
              "    <tr>\n",
              "      <th>4</th>\n",
              "      <td>The mic is great.</td>\n",
              "      <td>1</td>\n",
              "    </tr>\n",
              "    <tr>\n",
              "      <th>5</th>\n",
              "      <td>I have to jiggle the plug to get it to line up right to get decent volume.</td>\n",
              "      <td>0</td>\n",
              "    </tr>\n",
              "    <tr>\n",
              "      <th>6</th>\n",
              "      <td>If you have several dozen or several hundred contacts, then imagine the fun of sending each of them one by one.</td>\n",
              "      <td>0</td>\n",
              "    </tr>\n",
              "    <tr>\n",
              "      <th>7</th>\n",
              "      <td>If you are Razr owner...you must have this!</td>\n",
              "      <td>1</td>\n",
              "    </tr>\n",
              "    <tr>\n",
              "      <th>8</th>\n",
              "      <td>Needless to say, I wasted my money.</td>\n",
              "      <td>0</td>\n",
              "    </tr>\n",
              "    <tr>\n",
              "      <th>9</th>\n",
              "      <td>What a waste of money and time!.</td>\n",
              "      <td>0</td>\n",
              "    </tr>\n",
              "  </tbody>\n",
              "</table>\n",
              "</div>"
            ],
            "text/plain": [
              "                                                                                                            Review  \\\n",
              "0                               So there is no way for me to plug it in here in the US unless I go by a converter.   \n",
              "1                                                                                      Good case, Excellent value.   \n",
              "2                                                                                           Great for the jawbone.   \n",
              "3                                  Tied to charger for conversations lasting more than 45 minutes.MAJOR PROBLEMS!!   \n",
              "4                                                                                                The mic is great.   \n",
              "5                                       I have to jiggle the plug to get it to line up right to get decent volume.   \n",
              "6  If you have several dozen or several hundred contacts, then imagine the fun of sending each of them one by one.   \n",
              "7                                                                      If you are Razr owner...you must have this!   \n",
              "8                                                                              Needless to say, I wasted my money.   \n",
              "9                                                                                 What a waste of money and time!.   \n",
              "\n",
              "   Sentiment  \n",
              "0          0  \n",
              "1          1  \n",
              "2          1  \n",
              "3          0  \n",
              "4          1  \n",
              "5          0  \n",
              "6          0  \n",
              "7          1  \n",
              "8          0  \n",
              "9          0  "
            ]
          },
          "execution_count": 3,
          "metadata": {},
          "output_type": "execute_result"
        }
      ],
      "source": [
        "#fill in answer\n",
        "df.head(10)"
      ]
    },
    {
      "cell_type": "markdown",
      "metadata": {
        "id": "gkvpmytr9H5A"
      },
      "source": [
        "## Show count of each sentiment types"
      ]
    },
    {
      "cell_type": "code",
      "execution_count": 4,
      "metadata": {
        "colab": {
          "base_uri": "https://localhost:8080/"
        },
        "id": "MKm3D7nf9Avk",
        "outputId": "3155465a-75c6-4aee-9d65-fdeb5e701ace"
      },
      "outputs": [
        {
          "data": {
            "text/plain": [
              "Sentiment\n",
              "0    500\n",
              "1    500\n",
              "Name: count, dtype: int64"
            ]
          },
          "execution_count": 4,
          "metadata": {},
          "output_type": "execute_result"
        }
      ],
      "source": [
        "#fill in answer\n",
        "df.Sentiment.value_counts()"
      ]
    },
    {
      "cell_type": "markdown",
      "metadata": {},
      "source": [
        "## Create a **clean()** function to do the following preprocessing:\n",
        "\n",
        "1. Use regex sub() function to match any non-word character and substitute with empty string ' '.\n",
        "2. For a given text, replace: \n",
        "    * 'don't' with 'do not'\n",
        "    * 'won't' with 'will not'\n"
      ]
    },
    {
      "cell_type": "code",
      "execution_count": 5,
      "metadata": {},
      "outputs": [],
      "source": [
        "\n",
        "def clean(text):\n",
        "    text = text.replace(\"don't\", \"do not\")\n",
        "    text = text.replace(\"won't\", \"will not\")\n",
        "    text = re.sub(r'\\W+', ' ', text)\n",
        "    return text"
      ]
    },
    {
      "cell_type": "code",
      "execution_count": 6,
      "metadata": {},
      "outputs": [
        {
          "data": {
            "text/html": [
              "<div>\n",
              "<style scoped>\n",
              "    .dataframe tbody tr th:only-of-type {\n",
              "        vertical-align: middle;\n",
              "    }\n",
              "\n",
              "    .dataframe tbody tr th {\n",
              "        vertical-align: top;\n",
              "    }\n",
              "\n",
              "    .dataframe thead th {\n",
              "        text-align: right;\n",
              "    }\n",
              "</style>\n",
              "<table border=\"1\" class=\"dataframe\">\n",
              "  <thead>\n",
              "    <tr style=\"text-align: right;\">\n",
              "      <th></th>\n",
              "      <th>Review</th>\n",
              "      <th>Sentiment</th>\n",
              "    </tr>\n",
              "  </thead>\n",
              "  <tbody>\n",
              "    <tr>\n",
              "      <th>0</th>\n",
              "      <td>So there is no way for me to plug it in here in the US unless I go by a converter</td>\n",
              "      <td>0</td>\n",
              "    </tr>\n",
              "    <tr>\n",
              "      <th>1</th>\n",
              "      <td>Good case Excellent value</td>\n",
              "      <td>1</td>\n",
              "    </tr>\n",
              "    <tr>\n",
              "      <th>2</th>\n",
              "      <td>Great for the jawbone</td>\n",
              "      <td>1</td>\n",
              "    </tr>\n",
              "    <tr>\n",
              "      <th>3</th>\n",
              "      <td>Tied to charger for conversations lasting more than 45 minutes MAJOR PROBLEMS</td>\n",
              "      <td>0</td>\n",
              "    </tr>\n",
              "    <tr>\n",
              "      <th>4</th>\n",
              "      <td>The mic is great</td>\n",
              "      <td>1</td>\n",
              "    </tr>\n",
              "  </tbody>\n",
              "</table>\n",
              "</div>"
            ],
            "text/plain": [
              "                                                                               Review  \\\n",
              "0  So there is no way for me to plug it in here in the US unless I go by a converter    \n",
              "1                                                          Good case Excellent value    \n",
              "2                                                              Great for the jawbone    \n",
              "3      Tied to charger for conversations lasting more than 45 minutes MAJOR PROBLEMS    \n",
              "4                                                                   The mic is great    \n",
              "\n",
              "   Sentiment  \n",
              "0          0  \n",
              "1          1  \n",
              "2          1  \n",
              "3          0  \n",
              "4          1  "
            ]
          },
          "execution_count": 6,
          "metadata": {},
          "output_type": "execute_result"
        }
      ],
      "source": [
        "df.Review = df.Review.apply(clean)\n",
        "df.head()"
      ]
    },
    {
      "cell_type": "markdown",
      "metadata": {
        "id": "MTZ8z6XsfkQl"
      },
      "source": [
        "## Assign X to 'Reviews' of amazon_reviews. And Y to 'Sentiment' of amazon_reviews."
      ]
    },
    {
      "cell_type": "code",
      "execution_count": 7,
      "metadata": {
        "id": "fFLIg4j9FUGW"
      },
      "outputs": [],
      "source": [
        "X=df.Review\n",
        "Y=df.Sentiment"
      ]
    },
    {
      "cell_type": "markdown",
      "metadata": {
        "id": "P1UQuGkbEmvq"
      },
      "source": [
        "## Create Document Vectors"
      ]
    },
    {
      "cell_type": "code",
      "execution_count": 11,
      "metadata": {
        "id": "-omvAzASEo4a"
      },
      "outputs": [],
      "source": [
        "vectorizer = CountVectorizer()\n",
        "\n",
        "X_encoded = vectorizer.fit_transform(X).toarray()"
      ]
    },
    {
      "cell_type": "code",
      "execution_count": 12,
      "metadata": {
        "colab": {
          "base_uri": "https://localhost:8080/"
        },
        "id": "FVT6ssBLGPXL",
        "outputId": "b94c2db1-29ef-4aec-a97f-a6a3a6795627"
      },
      "outputs": [
        {
          "data": {
            "text/plain": [
              "1000"
            ]
          },
          "execution_count": 12,
          "metadata": {},
          "output_type": "execute_result"
        }
      ],
      "source": [
        "len(X_encoded)"
      ]
    },
    {
      "cell_type": "code",
      "execution_count": 13,
      "metadata": {
        "id": "QJ_FmxVIEo1S"
      },
      "outputs": [],
      "source": [
        "y_encoded = pd.get_dummies(Y).values"
      ]
    },
    {
      "cell_type": "markdown",
      "metadata": {
        "id": "v4T9sv_xEzc_"
      },
      "source": [
        "## Split into train, test sets. 70% for training, 30% for testing. \n",
        "\n",
        "1. Use the train_test_split() function. "
      ]
    },
    {
      "cell_type": "code",
      "execution_count": 14,
      "metadata": {
        "id": "XXzOJ1CgEtbH"
      },
      "outputs": [],
      "source": [
        "X_train, X_test, y_train, y_test = train_test_split(X_encoded, y_encoded, test_size=0.3)"
      ]
    },
    {
      "cell_type": "code",
      "execution_count": 15,
      "metadata": {
        "colab": {
          "base_uri": "https://localhost:8080/"
        },
        "id": "1ZRIgwhdEtYx",
        "outputId": "cf042d56-fb08-4209-ade1-0ff5c0a8a84e"
      },
      "outputs": [
        {
          "name": "stdout",
          "output_type": "stream",
          "text": [
            "Epoch 1/60\n"
          ]
        },
        {
          "name": "stderr",
          "output_type": "stream",
          "text": [
            "c:\\Users\\midzi\\anaconda3\\envs\\nlpe\\lib\\site-packages\\keras\\optimizers\\optimizer_v2\\gradient_descent.py:111: UserWarning: The `lr` argument is deprecated, use `learning_rate` instead.\n",
            "  super().__init__(name, **kwargs)\n"
          ]
        },
        {
          "name": "stdout",
          "output_type": "stream",
          "text": [
            "44/44 [==============================] - 1s 8ms/step - loss: 0.6714 - acc: 0.6000 - val_loss: 0.6443 - val_acc: 0.6900\n",
            "Epoch 2/60\n",
            "44/44 [==============================] - 0s 3ms/step - loss: 0.5825 - acc: 0.7814 - val_loss: 0.5893 - val_acc: 0.6500\n",
            "Epoch 3/60\n",
            "44/44 [==============================] - 0s 3ms/step - loss: 0.4944 - acc: 0.8157 - val_loss: 0.5348 - val_acc: 0.7467\n",
            "Epoch 4/60\n",
            "44/44 [==============================] - 0s 2ms/step - loss: 0.4093 - acc: 0.8743 - val_loss: 0.5026 - val_acc: 0.7667\n",
            "Epoch 5/60\n",
            "44/44 [==============================] - 0s 2ms/step - loss: 0.3356 - acc: 0.9229 - val_loss: 0.4759 - val_acc: 0.7867\n",
            "Epoch 6/60\n",
            "44/44 [==============================] - 0s 2ms/step - loss: 0.2743 - acc: 0.9429 - val_loss: 0.4694 - val_acc: 0.7900\n",
            "Epoch 7/60\n",
            "44/44 [==============================] - 0s 4ms/step - loss: 0.2225 - acc: 0.9657 - val_loss: 0.4687 - val_acc: 0.8067\n",
            "Epoch 8/60\n",
            "44/44 [==============================] - 0s 2ms/step - loss: 0.1830 - acc: 0.9800 - val_loss: 0.4533 - val_acc: 0.8133\n",
            "Epoch 9/60\n",
            "44/44 [==============================] - 0s 2ms/step - loss: 0.1539 - acc: 0.9814 - val_loss: 0.4539 - val_acc: 0.8133\n",
            "Epoch 10/60\n",
            "44/44 [==============================] - 0s 2ms/step - loss: 0.1290 - acc: 0.9900 - val_loss: 0.4567 - val_acc: 0.8167\n",
            "Epoch 11/60\n",
            "44/44 [==============================] - 0s 2ms/step - loss: 0.1102 - acc: 0.9943 - val_loss: 0.4724 - val_acc: 0.8200\n",
            "Epoch 12/60\n",
            "44/44 [==============================] - 0s 3ms/step - loss: 0.0953 - acc: 0.9943 - val_loss: 0.4635 - val_acc: 0.8167\n",
            "Epoch 13/60\n",
            "44/44 [==============================] - 0s 5ms/step - loss: 0.0828 - acc: 0.9957 - val_loss: 0.4705 - val_acc: 0.8100\n",
            "Epoch 14/60\n",
            "44/44 [==============================] - 0s 3ms/step - loss: 0.0701 - acc: 0.9943 - val_loss: 0.4858 - val_acc: 0.8233\n",
            "Epoch 15/60\n",
            "44/44 [==============================] - 0s 4ms/step - loss: 0.0642 - acc: 0.9957 - val_loss: 0.4776 - val_acc: 0.8067\n",
            "Epoch 16/60\n",
            "44/44 [==============================] - 0s 4ms/step - loss: 0.0561 - acc: 0.9971 - val_loss: 0.4855 - val_acc: 0.8167\n",
            "Epoch 17/60\n",
            "44/44 [==============================] - 0s 2ms/step - loss: 0.0492 - acc: 0.9986 - val_loss: 0.4934 - val_acc: 0.8133\n",
            "Epoch 18/60\n",
            "44/44 [==============================] - 0s 3ms/step - loss: 0.0440 - acc: 0.9986 - val_loss: 0.4954 - val_acc: 0.8133\n",
            "Epoch 19/60\n",
            "44/44 [==============================] - 0s 2ms/step - loss: 0.0396 - acc: 0.9986 - val_loss: 0.5011 - val_acc: 0.8133\n",
            "Epoch 20/60\n",
            "44/44 [==============================] - 0s 5ms/step - loss: 0.0363 - acc: 0.9986 - val_loss: 0.5000 - val_acc: 0.8200\n",
            "Epoch 21/60\n",
            "44/44 [==============================] - 0s 7ms/step - loss: 0.0322 - acc: 0.9986 - val_loss: 0.5081 - val_acc: 0.8233\n",
            "Epoch 22/60\n",
            "44/44 [==============================] - 0s 2ms/step - loss: 0.0296 - acc: 0.9986 - val_loss: 0.5130 - val_acc: 0.8300\n",
            "Epoch 23/60\n",
            "44/44 [==============================] - 0s 2ms/step - loss: 0.0271 - acc: 1.0000 - val_loss: 0.5172 - val_acc: 0.8267\n",
            "Epoch 24/60\n",
            "44/44 [==============================] - 1s 12ms/step - loss: 0.0252 - acc: 1.0000 - val_loss: 0.5204 - val_acc: 0.8267\n",
            "Epoch 25/60\n",
            "44/44 [==============================] - 0s 2ms/step - loss: 0.0233 - acc: 1.0000 - val_loss: 0.5274 - val_acc: 0.8267\n",
            "Epoch 26/60\n",
            "44/44 [==============================] - 0s 2ms/step - loss: 0.0216 - acc: 1.0000 - val_loss: 0.5298 - val_acc: 0.8300\n",
            "Epoch 27/60\n",
            "44/44 [==============================] - 0s 2ms/step - loss: 0.0200 - acc: 1.0000 - val_loss: 0.5330 - val_acc: 0.8267\n",
            "Epoch 28/60\n",
            "44/44 [==============================] - 0s 2ms/step - loss: 0.0187 - acc: 1.0000 - val_loss: 0.5393 - val_acc: 0.8267\n",
            "Epoch 29/60\n",
            "44/44 [==============================] - 0s 2ms/step - loss: 0.0176 - acc: 1.0000 - val_loss: 0.5456 - val_acc: 0.8300\n",
            "Epoch 30/60\n",
            "44/44 [==============================] - 0s 2ms/step - loss: 0.0166 - acc: 1.0000 - val_loss: 0.5458 - val_acc: 0.8267\n",
            "Epoch 31/60\n",
            "44/44 [==============================] - 0s 3ms/step - loss: 0.0155 - acc: 1.0000 - val_loss: 0.5493 - val_acc: 0.8267\n",
            "Epoch 32/60\n",
            "44/44 [==============================] - 0s 2ms/step - loss: 0.0147 - acc: 1.0000 - val_loss: 0.5547 - val_acc: 0.8267\n",
            "Epoch 33/60\n",
            "44/44 [==============================] - 0s 2ms/step - loss: 0.0139 - acc: 1.0000 - val_loss: 0.5548 - val_acc: 0.8300\n",
            "Epoch 34/60\n",
            "44/44 [==============================] - 0s 6ms/step - loss: 0.0133 - acc: 1.0000 - val_loss: 0.5605 - val_acc: 0.8300\n",
            "Epoch 35/60\n",
            "44/44 [==============================] - 0s 2ms/step - loss: 0.0126 - acc: 1.0000 - val_loss: 0.5627 - val_acc: 0.8267\n",
            "Epoch 36/60\n",
            "44/44 [==============================] - 0s 2ms/step - loss: 0.0120 - acc: 1.0000 - val_loss: 0.5681 - val_acc: 0.8300\n",
            "Epoch 37/60\n",
            "44/44 [==============================] - 0s 3ms/step - loss: 0.0114 - acc: 1.0000 - val_loss: 0.5708 - val_acc: 0.8267\n",
            "Epoch 38/60\n",
            "44/44 [==============================] - 0s 2ms/step - loss: 0.0109 - acc: 1.0000 - val_loss: 0.5746 - val_acc: 0.8300\n",
            "Epoch 39/60\n",
            "44/44 [==============================] - 0s 2ms/step - loss: 0.0104 - acc: 1.0000 - val_loss: 0.5766 - val_acc: 0.8267\n",
            "Epoch 40/60\n",
            "44/44 [==============================] - 0s 2ms/step - loss: 0.0100 - acc: 1.0000 - val_loss: 0.5807 - val_acc: 0.8333\n",
            "Epoch 41/60\n",
            "44/44 [==============================] - 0s 4ms/step - loss: 0.0096 - acc: 1.0000 - val_loss: 0.5829 - val_acc: 0.8267\n",
            "Epoch 42/60\n",
            "44/44 [==============================] - 0s 2ms/step - loss: 0.0093 - acc: 1.0000 - val_loss: 0.5863 - val_acc: 0.8300\n",
            "Epoch 43/60\n",
            "44/44 [==============================] - 0s 2ms/step - loss: 0.0089 - acc: 1.0000 - val_loss: 0.5876 - val_acc: 0.8300\n",
            "Epoch 44/60\n",
            "44/44 [==============================] - 0s 2ms/step - loss: 0.0086 - acc: 1.0000 - val_loss: 0.5909 - val_acc: 0.8300\n",
            "Epoch 45/60\n",
            "44/44 [==============================] - 0s 2ms/step - loss: 0.0082 - acc: 1.0000 - val_loss: 0.5940 - val_acc: 0.8300\n",
            "Epoch 46/60\n",
            "44/44 [==============================] - 0s 2ms/step - loss: 0.0080 - acc: 1.0000 - val_loss: 0.5966 - val_acc: 0.8300\n",
            "Epoch 47/60\n",
            "44/44 [==============================] - 0s 2ms/step - loss: 0.0077 - acc: 1.0000 - val_loss: 0.5983 - val_acc: 0.8300\n",
            "Epoch 48/60\n",
            "44/44 [==============================] - 0s 2ms/step - loss: 0.0074 - acc: 1.0000 - val_loss: 0.5997 - val_acc: 0.8300\n",
            "Epoch 49/60\n",
            "44/44 [==============================] - 0s 2ms/step - loss: 0.0072 - acc: 1.0000 - val_loss: 0.6032 - val_acc: 0.8300\n",
            "Epoch 50/60\n",
            "44/44 [==============================] - 0s 2ms/step - loss: 0.0069 - acc: 1.0000 - val_loss: 0.6057 - val_acc: 0.8333\n",
            "Epoch 51/60\n",
            "44/44 [==============================] - 0s 2ms/step - loss: 0.0067 - acc: 1.0000 - val_loss: 0.6075 - val_acc: 0.8300\n",
            "Epoch 52/60\n",
            "44/44 [==============================] - 0s 2ms/step - loss: 0.0065 - acc: 1.0000 - val_loss: 0.6107 - val_acc: 0.8300\n",
            "Epoch 53/60\n",
            "44/44 [==============================] - 0s 4ms/step - loss: 0.0063 - acc: 1.0000 - val_loss: 0.6124 - val_acc: 0.8300\n",
            "Epoch 54/60\n",
            "44/44 [==============================] - 0s 2ms/step - loss: 0.0062 - acc: 1.0000 - val_loss: 0.6145 - val_acc: 0.8300\n",
            "Epoch 55/60\n",
            "44/44 [==============================] - 0s 2ms/step - loss: 0.0060 - acc: 1.0000 - val_loss: 0.6151 - val_acc: 0.8333\n",
            "Epoch 56/60\n",
            "44/44 [==============================] - 0s 2ms/step - loss: 0.0058 - acc: 1.0000 - val_loss: 0.6168 - val_acc: 0.8333\n",
            "Epoch 57/60\n",
            "44/44 [==============================] - 0s 3ms/step - loss: 0.0057 - acc: 1.0000 - val_loss: 0.6209 - val_acc: 0.8300\n",
            "Epoch 58/60\n",
            "44/44 [==============================] - 0s 4ms/step - loss: 0.0055 - acc: 1.0000 - val_loss: 0.6224 - val_acc: 0.8333\n",
            "Epoch 59/60\n",
            "44/44 [==============================] - 0s 2ms/step - loss: 0.0054 - acc: 1.0000 - val_loss: 0.6245 - val_acc: 0.8333\n",
            "Epoch 60/60\n",
            "44/44 [==============================] - 0s 2ms/step - loss: 0.0052 - acc: 1.0000 - val_loss: 0.6260 - val_acc: 0.8333\n"
          ]
        }
      ],
      "source": [
        "num_epochs=60\n",
        "model = Sequential()\n",
        "model.add(Dense(units=64, activation='relu',\n",
        "                input_dim=X_encoded.shape[1] ))\n",
        "\n",
        "model.add(Dense(units=2,\n",
        "                activation='sigmoid'))\n",
        "model.compile(loss=categorical_crossentropy,\n",
        "              metrics=['acc'],\n",
        "              optimizer=SGD(lr=0.01,\n",
        "                            momentum=0.9, nesterov=True))\n",
        "history=model.fit(np.array(X_train), np.array(y_train), \n",
        "                  epochs=num_epochs, \n",
        "                  batch_size=16,\n",
        "                  validation_data=(X_test, y_test),\n",
        "                  verbose=1)"
      ]
    },
    {
      "cell_type": "markdown",
      "metadata": {
        "id": "12CMUFtWyr3l"
      },
      "source": [
        "## Show the learning curves\n",
        "\n",
        "1. Loss vs Epoch (training and validation)\n",
        "2. Accuracy vs Epoch (training and validation)"
      ]
    },
    {
      "cell_type": "code",
      "execution_count": 16,
      "metadata": {
        "colab": {
          "base_uri": "https://localhost:8080/",
          "height": 299
        },
        "id": "hWR8wgNPHfQd",
        "outputId": "15a4c77f-b0cd-4a96-f9a0-15d024d69bc5"
      },
      "outputs": [
        {
          "data": {
            "image/png": "[encoded data removed]",
            "text/plain": [
              "<Figure size 640x480 with 1 Axes>"
            ]
          },
          "metadata": {},
          "output_type": "display_data"
        }
      ],
      "source": [
        "def plot_graphs(H, metric):\n",
        "  plt.style.use(\"ggplot\")\n",
        "  plt.figure()\n",
        "  plt.plot(np.arange(0, num_epochs), H.history['loss'], label=\"train_loss\")\n",
        "  plt.plot(np.arange(0, num_epochs), H.history['val_loss'], label=\"val_loss\")\n",
        "  plt.plot(np.arange(0, num_epochs), H.history['acc'], label=\"train_acc\")\n",
        "  plt.plot(np.arange(0, num_epochs), H.history['val_acc'], label=\"val_acc\")\n",
        "  plt.title(\"Training Loss and Accuracy\")\n",
        "  plt.xlabel(\"Epoch #\" )\n",
        "  plt.ylabel(\"Loss/Accuracy\" )\n",
        "  plt.legend()\n",
        "  plt.savefig(\"model history\")\n",
        "  plt.show( )\n",
        "plot_graphs(history,'acc')"
      ]
    },
    {
      "cell_type": "markdown",
      "metadata": {
        "id": "cd2vmw7rgibM"
      },
      "source": [
        "## Use model to predict 'X_test'."
      ]
    },
    {
      "cell_type": "code",
      "execution_count": 17,
      "metadata": {
        "id": "19OkYT09Kq6z"
      },
      "outputs": [
        {
          "name": "stdout",
          "output_type": "stream",
          "text": [
            "10/10 [==============================] - 0s 9ms/step\n"
          ]
        }
      ],
      "source": [
        "preds = model.predict(X_test)"
      ]
    },
    {
      "cell_type": "markdown",
      "metadata": {
        "id": "nf_uFYoNgnqa"
      },
      "source": [
        "## Use argmax() to get the highest probability class label from preds. "
      ]
    },
    {
      "cell_type": "code",
      "execution_count": 18,
      "metadata": {
        "id": "KboqsFfsLLyl"
      },
      "outputs": [],
      "source": [
        "preds=[argmax(each) for each in preds]"
      ]
    },
    {
      "cell_type": "markdown",
      "metadata": {
        "id": "yCQhNAIugsM4"
      },
      "source": [
        "## Use argmax() to get the class label from y_test.\n",
        "\n"
      ]
    },
    {
      "cell_type": "code",
      "execution_count": 19,
      "metadata": {
        "id": "8gOPW9WTLY3h"
      },
      "outputs": [],
      "source": [
        "y_test_cm= [argmax(each) for each in y_test]\n"
      ]
    },
    {
      "cell_type": "markdown",
      "metadata": {
        "id": "SeHKnMY7zB6I"
      },
      "source": [
        "## Show Confusion Matrix \n",
        "\n",
        "Use sklearn's confusion_matrix function to create a confusion matrix. \n",
        "\n",
        "With the confusion matrix, create a pandas dataframe with columns called 'Negative' and 'Positive', and the index as 'Negative', 'Positive' as well."
      ]
    },
    {
      "cell_type": "code",
      "execution_count": 20,
      "metadata": {
        "colab": {
          "base_uri": "https://localhost:8080/",
          "height": 112
        },
        "id": "SFHAD9iEJ5Gs",
        "outputId": "bac53bf7-4289-45d7-b46c-808c67696083"
      },
      "outputs": [
        {
          "data": {
            "text/html": [
              "<div>\n",
              "<style scoped>\n",
              "    .dataframe tbody tr th:only-of-type {\n",
              "        vertical-align: middle;\n",
              "    }\n",
              "\n",
              "    .dataframe tbody tr th {\n",
              "        vertical-align: top;\n",
              "    }\n",
              "\n",
              "    .dataframe thead th {\n",
              "        text-align: right;\n",
              "    }\n",
              "</style>\n",
              "<table border=\"1\" class=\"dataframe\">\n",
              "  <thead>\n",
              "    <tr style=\"text-align: right;\">\n",
              "      <th></th>\n",
              "      <th>Negative</th>\n",
              "      <th>Positive</th>\n",
              "    </tr>\n",
              "  </thead>\n",
              "  <tbody>\n",
              "    <tr>\n",
              "      <th>Negative</th>\n",
              "      <td>134</td>\n",
              "      <td>22</td>\n",
              "    </tr>\n",
              "    <tr>\n",
              "      <th>Positive</th>\n",
              "      <td>28</td>\n",
              "      <td>116</td>\n",
              "    </tr>\n",
              "  </tbody>\n",
              "</table>\n",
              "</div>"
            ],
            "text/plain": [
              "          Negative  Positive\n",
              "Negative       134        22\n",
              "Positive        28       116"
            ]
          },
          "execution_count": 20,
          "metadata": {},
          "output_type": "execute_result"
        }
      ],
      "source": [
        "cm = confusion_matrix(y_test_cm, preds)\n",
        "df_cm = pd.DataFrame(cm, index=['Negative', 'Positive'], columns=['Negative', 'Positive'])\n",
        "df_cm.head()"
      ]
    },
    {
      "cell_type": "markdown",
      "metadata": {
        "id": "Dkx1wPfp0Hez"
      },
      "source": [
        "## Show Classification Report"
      ]
    },
    {
      "cell_type": "code",
      "execution_count": 21,
      "metadata": {
        "colab": {
          "base_uri": "https://localhost:8080/"
        },
        "id": "lJmWnZXoMBiS",
        "outputId": "58d17bed-a15b-41ed-ec94-4bdcc253c9ca"
      },
      "outputs": [
        {
          "name": "stdout",
          "output_type": "stream",
          "text": [
            "              precision    recall  f1-score   support\n",
            "\n",
            "           0       0.83      0.86      0.84       156\n",
            "           1       0.84      0.81      0.82       144\n",
            "\n",
            "    accuracy                           0.83       300\n",
            "   macro avg       0.83      0.83      0.83       300\n",
            "weighted avg       0.83      0.83      0.83       300\n",
            "\n"
          ]
        }
      ],
      "source": [
        "print(classification_report(y_test_cm, preds))"
      ]
    },
    {
      "cell_type": "markdown",
      "metadata": {},
      "source": [
        "### Make Prediction On New Text Reviews\n",
        "\n",
        "Write an appropriate code to predict whether the following text reviews are positive or negative and provide the probability in %.\n",
        "1. 'I love this movie.'\n",
        "2. 'This show is the worst show in the century.'"
      ]
    },
    {
      "cell_type": "code",
      "execution_count": 22,
      "metadata": {},
      "outputs": [],
      "source": [
        "newPositiveText='I love this movie.'\n",
        "newNegativeText='This show is the worst show in the century.'\n"
      ]
    },
    {
      "cell_type": "code",
      "execution_count": 23,
      "metadata": {},
      "outputs": [],
      "source": [
        "def encode_new_sentence(sentence):\n",
        "    sentence=clean(sentence)\n",
        "    sentence_encoded = vectorizer.transform([sentence]).toarray()\n",
        "    return sentence_encoded"
      ]
    },
    {
      "cell_type": "code",
      "execution_count": 24,
      "metadata": {},
      "outputs": [
        {
          "name": "stdout",
          "output_type": "stream",
          "text": [
            "negative text:\n",
            "1/1 [==============================] - 0s 23ms/step\n",
            "The prediction is:  [[0.9719581  0.02632627]]\n",
            "The predictiion class is:  0\n",
            "The result is negative\n",
            "\n",
            "positive text:\n",
            "1/1 [==============================] - 0s 23ms/step\n",
            "The prediction is:  [[0.05029382 0.9333242 ]]\n",
            "The predictiion class is:  1\n",
            "The result is positive\n"
          ]
        }
      ],
      "source": [
        "def predict_results(sentence_encoded):\n",
        "    predictions = model.predict(sentence_encoded)\n",
        "    prediction_class = np.argmax(predictions)\n",
        "    print('The prediction is: ', predictions)\n",
        "    print(\"The predictiion class is: \", prediction_class)\n",
        "\n",
        "    if prediction_class == 0:\n",
        "        print(\"The result is negative\")\n",
        "    else:\n",
        "        print(\"The result is positive\")\n",
        "\n",
        "topredNeg =  encode_new_sentence(newNegativeText)\n",
        "topredPos = encode_new_sentence(newPositiveText)\n",
        "\n",
        "print(\"negative text:\")\n",
        "predict_results(topredNeg)\n",
        "\n",
        "print(\"\\npositive text:\")\n",
        "predict_results(topredPos)"
      ]
    },
    {
      "cell_type": "markdown",
      "metadata": {},
      "source": []
    }
  ],
  "metadata": {
    "colab": {
      "collapsed_sections": [],
      "name": "STUDENT_MockTest.ipynb",
      "provenance": [],
      "toc_visible": true
    },
    "kernelspec": {
      "display_name": "Python 3",
      "name": "python3"
    },
    "language_info": {
      "codemirror_mode": {
        "name": "ipython",
        "version": 3
      },
      "file_extension": ".py",
      "mimetype": "text/x-python",
      "name": "python",
      "nbconvert_exporter": "python",
      "pygments_lexer": "ipython3",
      "version": "3.10.13"
    }
  },
  "nbformat": 4,
  "nbformat_minor": 0
}
